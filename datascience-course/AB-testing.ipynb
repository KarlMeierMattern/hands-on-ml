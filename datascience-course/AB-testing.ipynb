{
 "cells": [
  {
   "cell_type": "markdown",
   "metadata": {},
   "source": [
    "# **Data Science**"
   ]
  },
  {
   "cell_type": "markdown",
   "metadata": {},
   "source": [
    "https://www.youtube.com/watch?v=FTpmwX94_Yo&t=94s&ab_channel=freeCodeCamp.org"
   ]
  },
  {
   "cell_type": "code",
   "execution_count": 2,
   "metadata": {},
   "outputs": [
    {
     "name": "stdout",
     "output_type": "stream",
     "text": [
      "Requirement already satisfied: pandas in /opt/miniconda3/envs/datascienceCourse/lib/python3.13/site-packages (2.2.3)\n",
      "Requirement already satisfied: numpy>=1.26.0 in /opt/miniconda3/envs/datascienceCourse/lib/python3.13/site-packages (from pandas) (2.1.2)\n",
      "Requirement already satisfied: python-dateutil>=2.8.2 in /opt/miniconda3/envs/datascienceCourse/lib/python3.13/site-packages (from pandas) (2.9.0)\n",
      "Requirement already satisfied: pytz>=2020.1 in /opt/miniconda3/envs/datascienceCourse/lib/python3.13/site-packages (from pandas) (2024.2)\n",
      "Requirement already satisfied: tzdata>=2022.7 in /opt/miniconda3/envs/datascienceCourse/lib/python3.13/site-packages (from pandas) (2024.2)\n",
      "Requirement already satisfied: six>=1.5 in /opt/miniconda3/envs/datascienceCourse/lib/python3.13/site-packages (from python-dateutil>=2.8.2->pandas) (1.16.0)\n",
      "Requirement already satisfied: matplotlib in /opt/miniconda3/envs/datascienceCourse/lib/python3.13/site-packages (3.9.2)\n",
      "Requirement already satisfied: contourpy>=1.0.1 in /opt/miniconda3/envs/datascienceCourse/lib/python3.13/site-packages (from matplotlib) (1.3.0)\n",
      "Requirement already satisfied: cycler>=0.10 in /opt/miniconda3/envs/datascienceCourse/lib/python3.13/site-packages (from matplotlib) (0.12.1)\n",
      "Requirement already satisfied: fonttools>=4.22.0 in /opt/miniconda3/envs/datascienceCourse/lib/python3.13/site-packages (from matplotlib) (4.54.1)\n",
      "Requirement already satisfied: kiwisolver>=1.3.1 in /opt/miniconda3/envs/datascienceCourse/lib/python3.13/site-packages (from matplotlib) (1.4.7)\n",
      "Requirement already satisfied: numpy>=1.23 in /opt/miniconda3/envs/datascienceCourse/lib/python3.13/site-packages (from matplotlib) (2.1.2)\n",
      "Requirement already satisfied: packaging>=20.0 in /opt/miniconda3/envs/datascienceCourse/lib/python3.13/site-packages (from matplotlib) (24.1)\n",
      "Requirement already satisfied: pillow>=8 in /opt/miniconda3/envs/datascienceCourse/lib/python3.13/site-packages (from matplotlib) (11.0.0)\n",
      "Requirement already satisfied: pyparsing>=2.3.1 in /opt/miniconda3/envs/datascienceCourse/lib/python3.13/site-packages (from matplotlib) (3.2.0)\n",
      "Requirement already satisfied: python-dateutil>=2.7 in /opt/miniconda3/envs/datascienceCourse/lib/python3.13/site-packages (from matplotlib) (2.9.0)\n",
      "Requirement already satisfied: six>=1.5 in /opt/miniconda3/envs/datascienceCourse/lib/python3.13/site-packages (from python-dateutil>=2.7->matplotlib) (1.16.0)\n",
      "Requirement already satisfied: seaborn in /opt/miniconda3/envs/datascienceCourse/lib/python3.13/site-packages (0.13.2)\n",
      "Requirement already satisfied: numpy!=1.24.0,>=1.20 in /opt/miniconda3/envs/datascienceCourse/lib/python3.13/site-packages (from seaborn) (2.1.2)\n",
      "Requirement already satisfied: pandas>=1.2 in /opt/miniconda3/envs/datascienceCourse/lib/python3.13/site-packages (from seaborn) (2.2.3)\n",
      "Requirement already satisfied: matplotlib!=3.6.1,>=3.4 in /opt/miniconda3/envs/datascienceCourse/lib/python3.13/site-packages (from seaborn) (3.9.2)\n",
      "Requirement already satisfied: contourpy>=1.0.1 in /opt/miniconda3/envs/datascienceCourse/lib/python3.13/site-packages (from matplotlib!=3.6.1,>=3.4->seaborn) (1.3.0)\n",
      "Requirement already satisfied: cycler>=0.10 in /opt/miniconda3/envs/datascienceCourse/lib/python3.13/site-packages (from matplotlib!=3.6.1,>=3.4->seaborn) (0.12.1)\n",
      "Requirement already satisfied: fonttools>=4.22.0 in /opt/miniconda3/envs/datascienceCourse/lib/python3.13/site-packages (from matplotlib!=3.6.1,>=3.4->seaborn) (4.54.1)\n",
      "Requirement already satisfied: kiwisolver>=1.3.1 in /opt/miniconda3/envs/datascienceCourse/lib/python3.13/site-packages (from matplotlib!=3.6.1,>=3.4->seaborn) (1.4.7)\n",
      "Requirement already satisfied: packaging>=20.0 in /opt/miniconda3/envs/datascienceCourse/lib/python3.13/site-packages (from matplotlib!=3.6.1,>=3.4->seaborn) (24.1)\n",
      "Requirement already satisfied: pillow>=8 in /opt/miniconda3/envs/datascienceCourse/lib/python3.13/site-packages (from matplotlib!=3.6.1,>=3.4->seaborn) (11.0.0)\n",
      "Requirement already satisfied: pyparsing>=2.3.1 in /opt/miniconda3/envs/datascienceCourse/lib/python3.13/site-packages (from matplotlib!=3.6.1,>=3.4->seaborn) (3.2.0)\n",
      "Requirement already satisfied: python-dateutil>=2.7 in /opt/miniconda3/envs/datascienceCourse/lib/python3.13/site-packages (from matplotlib!=3.6.1,>=3.4->seaborn) (2.9.0)\n",
      "Requirement already satisfied: pytz>=2020.1 in /opt/miniconda3/envs/datascienceCourse/lib/python3.13/site-packages (from pandas>=1.2->seaborn) (2024.2)\n",
      "Requirement already satisfied: tzdata>=2022.7 in /opt/miniconda3/envs/datascienceCourse/lib/python3.13/site-packages (from pandas>=1.2->seaborn) (2024.2)\n",
      "Requirement already satisfied: six>=1.5 in /opt/miniconda3/envs/datascienceCourse/lib/python3.13/site-packages (from python-dateutil>=2.7->matplotlib!=3.6.1,>=3.4->seaborn) (1.16.0)\n",
      "Requirement already satisfied: scipy in /opt/miniconda3/envs/datascienceCourse/lib/python3.13/site-packages (1.14.1)\n",
      "Requirement already satisfied: numpy<2.3,>=1.23.5 in /opt/miniconda3/envs/datascienceCourse/lib/python3.13/site-packages (from scipy) (2.1.2)\n"
     ]
    }
   ],
   "source": [
    "! pip install pandas\n",
    "! pip install matplotlib\n",
    "! pip install seaborn\n",
    "! pip install scipy"
   ]
  },
  {
   "cell_type": "code",
   "execution_count": 3,
   "metadata": {},
   "outputs": [],
   "source": [
    "import numpy as np\n",
    "import pandas as pd\n",
    "import matplotlib.pyplot as plt\n",
    "%matplotlib inline\n",
    "from scipy import stats\n",
    "from scipy.stats import norm\n",
    "import seaborn as sns"
   ]
  },
  {
   "cell_type": "markdown",
   "metadata": {},
   "source": [
    "---"
   ]
  },
  {
   "cell_type": "markdown",
   "metadata": {},
   "source": [
    "## **Load data**"
   ]
  },
  {
   "cell_type": "code",
   "execution_count": 4,
   "metadata": {},
   "outputs": [
    {
     "data": {
      "text/html": [
       "<div>\n",
       "<style scoped>\n",
       "    .dataframe tbody tr th:only-of-type {\n",
       "        vertical-align: middle;\n",
       "    }\n",
       "\n",
       "    .dataframe tbody tr th {\n",
       "        vertical-align: top;\n",
       "    }\n",
       "\n",
       "    .dataframe thead th {\n",
       "        text-align: right;\n",
       "    }\n",
       "</style>\n",
       "<table border=\"1\" class=\"dataframe\">\n",
       "  <thead>\n",
       "    <tr style=\"text-align: right;\">\n",
       "      <th></th>\n",
       "      <th>Year</th>\n",
       "      <th>Agriculture</th>\n",
       "      <th>Architecture</th>\n",
       "      <th>Art and Performance</th>\n",
       "      <th>Biology</th>\n",
       "      <th>Business</th>\n",
       "      <th>Communications and Journalism</th>\n",
       "      <th>Computer Science</th>\n",
       "      <th>Education</th>\n",
       "      <th>Engineering</th>\n",
       "      <th>English</th>\n",
       "      <th>Foreign Languages</th>\n",
       "      <th>Health Professions</th>\n",
       "      <th>Math and Statistics</th>\n",
       "      <th>Physical Sciences</th>\n",
       "      <th>Psychology</th>\n",
       "      <th>Public Administration</th>\n",
       "      <th>Social Sciences and History</th>\n",
       "    </tr>\n",
       "  </thead>\n",
       "  <tbody>\n",
       "    <tr>\n",
       "      <th>0</th>\n",
       "      <td>1970</td>\n",
       "      <td>4.22979798</td>\n",
       "      <td>11.92100539</td>\n",
       "      <td>59.7</td>\n",
       "      <td>29.08836297</td>\n",
       "      <td>9.064438975</td>\n",
       "      <td>35.3</td>\n",
       "      <td>13.6</td>\n",
       "      <td>74.53532758</td>\n",
       "      <td>0.8</td>\n",
       "      <td>65.57092343</td>\n",
       "      <td>73.8</td>\n",
       "      <td>77.1</td>\n",
       "      <td>38</td>\n",
       "      <td>13.8</td>\n",
       "      <td>44.4</td>\n",
       "      <td>68.4</td>\n",
       "      <td>36.8</td>\n",
       "    </tr>\n",
       "    <tr>\n",
       "      <th>1</th>\n",
       "      <td>1970</td>\n",
       "      <td>4.22979798</td>\n",
       "      <td>11.92100539</td>\n",
       "      <td>59.7</td>\n",
       "      <td>29.08836297</td>\n",
       "      <td>9.064438975</td>\n",
       "      <td>35.3</td>\n",
       "      <td>13.6</td>\n",
       "      <td>74.53532758</td>\n",
       "      <td>0.8</td>\n",
       "      <td>65.57092343</td>\n",
       "      <td>73.8</td>\n",
       "      <td>77.1</td>\n",
       "      <td>38</td>\n",
       "      <td>13.8</td>\n",
       "      <td>44.4</td>\n",
       "      <td>68.4</td>\n",
       "      <td>36.8</td>\n",
       "    </tr>\n",
       "    <tr>\n",
       "      <th>2</th>\n",
       "      <td>0</td>\n",
       "      <td>0</td>\n",
       "      <td>0</td>\n",
       "      <td>0</td>\n",
       "      <td>0</td>\n",
       "      <td>0</td>\n",
       "      <td>0</td>\n",
       "      <td>0</td>\n",
       "      <td>0</td>\n",
       "      <td>0</td>\n",
       "      <td>0</td>\n",
       "      <td>0</td>\n",
       "      <td>0</td>\n",
       "      <td>0</td>\n",
       "      <td>0</td>\n",
       "      <td>0</td>\n",
       "      <td>0</td>\n",
       "      <td>0</td>\n",
       "    </tr>\n",
       "    <tr>\n",
       "      <th>3</th>\n",
       "      <td>na</td>\n",
       "      <td>na</td>\n",
       "      <td>na</td>\n",
       "      <td>na</td>\n",
       "      <td>na</td>\n",
       "      <td>na</td>\n",
       "      <td>na</td>\n",
       "      <td>na</td>\n",
       "      <td>na</td>\n",
       "      <td>na</td>\n",
       "      <td>na</td>\n",
       "      <td>na</td>\n",
       "      <td>na</td>\n",
       "      <td>na</td>\n",
       "      <td>na</td>\n",
       "      <td>na</td>\n",
       "      <td>na</td>\n",
       "      <td>na</td>\n",
       "    </tr>\n",
       "    <tr>\n",
       "      <th>4</th>\n",
       "      <td>1971</td>\n",
       "      <td>5.452796685</td>\n",
       "      <td>12.00310559</td>\n",
       "      <td>59.9</td>\n",
       "      <td>29.39440285</td>\n",
       "      <td>9.503186594</td>\n",
       "      <td>35.5</td>\n",
       "      <td>13.6</td>\n",
       "      <td>74.14920369</td>\n",
       "      <td>1</td>\n",
       "      <td>64.55648516</td>\n",
       "      <td>73.9</td>\n",
       "      <td>75.5</td>\n",
       "      <td>39</td>\n",
       "      <td>14.9</td>\n",
       "      <td>46.2</td>\n",
       "      <td>65.5</td>\n",
       "      <td>36.2</td>\n",
       "    </tr>\n",
       "  </tbody>\n",
       "</table>\n",
       "</div>"
      ],
      "text/plain": [
       "   Year  Agriculture Architecture Art and Performance      Biology  \\\n",
       "0  1970   4.22979798  11.92100539                59.7  29.08836297   \n",
       "1  1970   4.22979798  11.92100539                59.7  29.08836297   \n",
       "2     0            0            0                   0            0   \n",
       "3    na           na           na                  na           na   \n",
       "4  1971  5.452796685  12.00310559                59.9  29.39440285   \n",
       "\n",
       "      Business Communications and Journalism Computer Science    Education  \\\n",
       "0  9.064438975                          35.3             13.6  74.53532758   \n",
       "1  9.064438975                          35.3             13.6  74.53532758   \n",
       "2            0                             0                0            0   \n",
       "3           na                            na               na           na   \n",
       "4  9.503186594                          35.5             13.6  74.14920369   \n",
       "\n",
       "  Engineering      English Foreign Languages Health Professions  \\\n",
       "0         0.8  65.57092343              73.8               77.1   \n",
       "1         0.8  65.57092343              73.8               77.1   \n",
       "2           0            0                 0                  0   \n",
       "3          na           na                na                 na   \n",
       "4           1  64.55648516              73.9               75.5   \n",
       "\n",
       "  Math and Statistics Physical Sciences Psychology Public Administration  \\\n",
       "0                  38              13.8       44.4                  68.4   \n",
       "1                  38              13.8       44.4                  68.4   \n",
       "2                   0                 0          0                     0   \n",
       "3                  na                na         na                    na   \n",
       "4                  39              14.9       46.2                  65.5   \n",
       "\n",
       "  Social Sciences and History  \n",
       "0                        36.8  \n",
       "1                        36.8  \n",
       "2                           0  \n",
       "3                          na  \n",
       "4                        36.2  "
      ]
     },
     "execution_count": 4,
     "metadata": {},
     "output_type": "execute_result"
    }
   ],
   "source": [
    "data_csv = pd.read_csv(\"data/percent-bachelors-degrees-women-usa.csv\", sep=\",\")\n",
    "data_csv.head()"
   ]
  },
  {
   "cell_type": "code",
   "execution_count": 5,
   "metadata": {},
   "outputs": [
    {
     "data": {
      "text/html": [
       "<div>\n",
       "<style scoped>\n",
       "    .dataframe tbody tr th:only-of-type {\n",
       "        vertical-align: middle;\n",
       "    }\n",
       "\n",
       "    .dataframe tbody tr th {\n",
       "        vertical-align: top;\n",
       "    }\n",
       "\n",
       "    .dataframe thead th {\n",
       "        text-align: right;\n",
       "    }\n",
       "</style>\n",
       "<table border=\"1\" class=\"dataframe\">\n",
       "  <thead>\n",
       "    <tr style=\"text-align: right;\">\n",
       "      <th></th>\n",
       "      <th>Year</th>\n",
       "      <th>Agriculture</th>\n",
       "      <th>Architecture</th>\n",
       "      <th>Art and Performance</th>\n",
       "      <th>Biology</th>\n",
       "      <th>Business</th>\n",
       "      <th>Communications and Journalism</th>\n",
       "      <th>Computer Science</th>\n",
       "      <th>Education</th>\n",
       "      <th>Engineering</th>\n",
       "      <th>English</th>\n",
       "      <th>Foreign Languages</th>\n",
       "      <th>Health Professions</th>\n",
       "      <th>Math and Statistics</th>\n",
       "      <th>Physical Sciences</th>\n",
       "      <th>Psychology</th>\n",
       "      <th>Public Administration</th>\n",
       "      <th>Social Sciences and History</th>\n",
       "    </tr>\n",
       "  </thead>\n",
       "  <tbody>\n",
       "    <tr>\n",
       "      <th>0</th>\n",
       "      <td>1970</td>\n",
       "      <td>4.22979798</td>\n",
       "      <td>11.92100539</td>\n",
       "      <td>59.7</td>\n",
       "      <td>29.08836297</td>\n",
       "      <td>9.064438975</td>\n",
       "      <td>35.3</td>\n",
       "      <td>13.6</td>\n",
       "      <td>74.53532758</td>\n",
       "      <td>0.8</td>\n",
       "      <td>65.57092343</td>\n",
       "      <td>73.8</td>\n",
       "      <td>77.1</td>\n",
       "      <td>38</td>\n",
       "      <td>13.8</td>\n",
       "      <td>44.4</td>\n",
       "      <td>68.4</td>\n",
       "      <td>36.8</td>\n",
       "    </tr>\n",
       "    <tr>\n",
       "      <th>2</th>\n",
       "      <td>0</td>\n",
       "      <td>0</td>\n",
       "      <td>0</td>\n",
       "      <td>0</td>\n",
       "      <td>0</td>\n",
       "      <td>0</td>\n",
       "      <td>0</td>\n",
       "      <td>0</td>\n",
       "      <td>0</td>\n",
       "      <td>0</td>\n",
       "      <td>0</td>\n",
       "      <td>0</td>\n",
       "      <td>0</td>\n",
       "      <td>0</td>\n",
       "      <td>0</td>\n",
       "      <td>0</td>\n",
       "      <td>0</td>\n",
       "      <td>0</td>\n",
       "    </tr>\n",
       "    <tr>\n",
       "      <th>3</th>\n",
       "      <td>na</td>\n",
       "      <td>na</td>\n",
       "      <td>na</td>\n",
       "      <td>na</td>\n",
       "      <td>na</td>\n",
       "      <td>na</td>\n",
       "      <td>na</td>\n",
       "      <td>na</td>\n",
       "      <td>na</td>\n",
       "      <td>na</td>\n",
       "      <td>na</td>\n",
       "      <td>na</td>\n",
       "      <td>na</td>\n",
       "      <td>na</td>\n",
       "      <td>na</td>\n",
       "      <td>na</td>\n",
       "      <td>na</td>\n",
       "      <td>na</td>\n",
       "    </tr>\n",
       "    <tr>\n",
       "      <th>4</th>\n",
       "      <td>1971</td>\n",
       "      <td>5.452796685</td>\n",
       "      <td>12.00310559</td>\n",
       "      <td>59.9</td>\n",
       "      <td>29.39440285</td>\n",
       "      <td>9.503186594</td>\n",
       "      <td>35.5</td>\n",
       "      <td>13.6</td>\n",
       "      <td>74.14920369</td>\n",
       "      <td>1</td>\n",
       "      <td>64.55648516</td>\n",
       "      <td>73.9</td>\n",
       "      <td>75.5</td>\n",
       "      <td>39</td>\n",
       "      <td>14.9</td>\n",
       "      <td>46.2</td>\n",
       "      <td>65.5</td>\n",
       "      <td>36.2</td>\n",
       "    </tr>\n",
       "    <tr>\n",
       "      <th>5</th>\n",
       "      <td>1972</td>\n",
       "      <td>7.42071022</td>\n",
       "      <td>13.21459351</td>\n",
       "      <td>60.4</td>\n",
       "      <td>29.81022105</td>\n",
       "      <td>10.5589621</td>\n",
       "      <td>36.6</td>\n",
       "      <td>14.9</td>\n",
       "      <td>73.55451996</td>\n",
       "      <td>1.2</td>\n",
       "      <td>63.6642632</td>\n",
       "      <td>74.6</td>\n",
       "      <td>76.9</td>\n",
       "      <td>40.2</td>\n",
       "      <td>14.8</td>\n",
       "      <td>47.6</td>\n",
       "      <td>62.6</td>\n",
       "      <td>36.1</td>\n",
       "    </tr>\n",
       "  </tbody>\n",
       "</table>\n",
       "</div>"
      ],
      "text/plain": [
       "   Year  Agriculture Architecture Art and Performance      Biology  \\\n",
       "0  1970   4.22979798  11.92100539                59.7  29.08836297   \n",
       "2     0            0            0                   0            0   \n",
       "3    na           na           na                  na           na   \n",
       "4  1971  5.452796685  12.00310559                59.9  29.39440285   \n",
       "5  1972   7.42071022  13.21459351                60.4  29.81022105   \n",
       "\n",
       "      Business Communications and Journalism Computer Science    Education  \\\n",
       "0  9.064438975                          35.3             13.6  74.53532758   \n",
       "2            0                             0                0            0   \n",
       "3           na                            na               na           na   \n",
       "4  9.503186594                          35.5             13.6  74.14920369   \n",
       "5   10.5589621                          36.6             14.9  73.55451996   \n",
       "\n",
       "  Engineering      English Foreign Languages Health Professions  \\\n",
       "0         0.8  65.57092343              73.8               77.1   \n",
       "2           0            0                 0                  0   \n",
       "3          na           na                na                 na   \n",
       "4           1  64.55648516              73.9               75.5   \n",
       "5         1.2   63.6642632              74.6               76.9   \n",
       "\n",
       "  Math and Statistics Physical Sciences Psychology Public Administration  \\\n",
       "0                  38              13.8       44.4                  68.4   \n",
       "2                   0                 0          0                     0   \n",
       "3                  na                na         na                    na   \n",
       "4                  39              14.9       46.2                  65.5   \n",
       "5                40.2              14.8       47.6                  62.6   \n",
       "\n",
       "  Social Sciences and History  \n",
       "0                        36.8  \n",
       "2                           0  \n",
       "3                          na  \n",
       "4                        36.2  \n",
       "5                        36.1  "
      ]
     },
     "execution_count": 5,
     "metadata": {},
     "output_type": "execute_result"
    }
   ],
   "source": [
    "new_data = data_csv.drop_duplicates(subset=[\"Agriculture\"])\n",
    "new_data.head()"
   ]
  },
  {
   "cell_type": "code",
   "execution_count": 6,
   "metadata": {},
   "outputs": [
    {
     "data": {
      "text/html": [
       "<div>\n",
       "<style scoped>\n",
       "    .dataframe tbody tr th:only-of-type {\n",
       "        vertical-align: middle;\n",
       "    }\n",
       "\n",
       "    .dataframe tbody tr th {\n",
       "        vertical-align: top;\n",
       "    }\n",
       "\n",
       "    .dataframe thead th {\n",
       "        text-align: right;\n",
       "    }\n",
       "</style>\n",
       "<table border=\"1\" class=\"dataframe\">\n",
       "  <thead>\n",
       "    <tr style=\"text-align: right;\">\n",
       "      <th></th>\n",
       "      <th>Name</th>\n",
       "      <th>SchoolId</th>\n",
       "      <th>Country</th>\n",
       "    </tr>\n",
       "  </thead>\n",
       "  <tbody>\n",
       "    <tr>\n",
       "      <th>0</th>\n",
       "      <td>Tina</td>\n",
       "      <td>123</td>\n",
       "      <td>Canada</td>\n",
       "    </tr>\n",
       "    <tr>\n",
       "      <th>1</th>\n",
       "      <td>Anna</td>\n",
       "      <td>123</td>\n",
       "      <td>Canada</td>\n",
       "    </tr>\n",
       "    <tr>\n",
       "      <th>2</th>\n",
       "      <td>Zain</td>\n",
       "      <td>204</td>\n",
       "      <td>Canada</td>\n",
       "    </tr>\n",
       "    <tr>\n",
       "      <th>3</th>\n",
       "      <td>Jim</td>\n",
       "      <td>456</td>\n",
       "      <td>USA</td>\n",
       "    </tr>\n",
       "    <tr>\n",
       "      <th>4</th>\n",
       "      <td>Tom</td>\n",
       "      <td>89</td>\n",
       "      <td>China</td>\n",
       "    </tr>\n",
       "  </tbody>\n",
       "</table>\n",
       "</div>"
      ],
      "text/plain": [
       "   Name  SchoolId Country\n",
       "0  Tina       123  Canada\n",
       "1  Anna       123  Canada\n",
       "2  Zain       204  Canada\n",
       "3   Jim       456     USA\n",
       "4   Tom        89   China"
      ]
     },
     "execution_count": 6,
     "metadata": {},
     "output_type": "execute_result"
    }
   ],
   "source": [
    "data_txt = pd.read_csv(\"data/StudentSchools.txt\", header=0, sep=\",\")\n",
    "data_txt.head()"
   ]
  },
  {
   "cell_type": "code",
   "execution_count": 7,
   "metadata": {},
   "outputs": [
    {
     "data": {
      "text/html": [
       "<div>\n",
       "<style scoped>\n",
       "    .dataframe tbody tr th:only-of-type {\n",
       "        vertical-align: middle;\n",
       "    }\n",
       "\n",
       "    .dataframe tbody tr th {\n",
       "        vertical-align: top;\n",
       "    }\n",
       "\n",
       "    .dataframe thead th {\n",
       "        text-align: right;\n",
       "    }\n",
       "</style>\n",
       "<table border=\"1\" class=\"dataframe\">\n",
       "  <thead>\n",
       "    <tr style=\"text-align: right;\">\n",
       "      <th></th>\n",
       "      <th>Year</th>\n",
       "      <th>Agriculture</th>\n",
       "      <th>Architecture</th>\n",
       "      <th>Art and Performance</th>\n",
       "      <th>Biology</th>\n",
       "      <th>Business</th>\n",
       "      <th>Communications and Journalism</th>\n",
       "      <th>Computer Science</th>\n",
       "      <th>Education</th>\n",
       "      <th>Engineering</th>\n",
       "      <th>English</th>\n",
       "      <th>Foreign Languages</th>\n",
       "      <th>Health Professions</th>\n",
       "      <th>Math and Statistics</th>\n",
       "      <th>Physical Sciences</th>\n",
       "      <th>Psychology</th>\n",
       "      <th>Public Administration</th>\n",
       "      <th>Social Sciences and History</th>\n",
       "    </tr>\n",
       "  </thead>\n",
       "  <tbody>\n",
       "    <tr>\n",
       "      <th>count</th>\n",
       "      <td>45</td>\n",
       "      <td>45</td>\n",
       "      <td>45</td>\n",
       "      <td>45</td>\n",
       "      <td>45</td>\n",
       "      <td>45</td>\n",
       "      <td>45</td>\n",
       "      <td>45</td>\n",
       "      <td>45</td>\n",
       "      <td>45</td>\n",
       "      <td>45</td>\n",
       "      <td>45</td>\n",
       "      <td>45</td>\n",
       "      <td>45</td>\n",
       "      <td>45</td>\n",
       "      <td>45</td>\n",
       "      <td>45</td>\n",
       "      <td>45</td>\n",
       "    </tr>\n",
       "    <tr>\n",
       "      <th>unique</th>\n",
       "      <td>44</td>\n",
       "      <td>44</td>\n",
       "      <td>44</td>\n",
       "      <td>31</td>\n",
       "      <td>44</td>\n",
       "      <td>44</td>\n",
       "      <td>38</td>\n",
       "      <td>39</td>\n",
       "      <td>44</td>\n",
       "      <td>38</td>\n",
       "      <td>44</td>\n",
       "      <td>35</td>\n",
       "      <td>35</td>\n",
       "      <td>34</td>\n",
       "      <td>40</td>\n",
       "      <td>38</td>\n",
       "      <td>39</td>\n",
       "      <td>37</td>\n",
       "    </tr>\n",
       "    <tr>\n",
       "      <th>top</th>\n",
       "      <td>1970</td>\n",
       "      <td>4.22979798</td>\n",
       "      <td>11.92100539</td>\n",
       "      <td>61.3</td>\n",
       "      <td>29.08836297</td>\n",
       "      <td>9.064438975</td>\n",
       "      <td>60</td>\n",
       "      <td>13.6</td>\n",
       "      <td>74.53532758</td>\n",
       "      <td>16.8</td>\n",
       "      <td>65.57092343</td>\n",
       "      <td>71.2</td>\n",
       "      <td>83.5</td>\n",
       "      <td>47</td>\n",
       "      <td>40.7</td>\n",
       "      <td>77.5</td>\n",
       "      <td>68.4</td>\n",
       "      <td>36.8</td>\n",
       "    </tr>\n",
       "    <tr>\n",
       "      <th>freq</th>\n",
       "      <td>2</td>\n",
       "      <td>2</td>\n",
       "      <td>2</td>\n",
       "      <td>3</td>\n",
       "      <td>2</td>\n",
       "      <td>2</td>\n",
       "      <td>3</td>\n",
       "      <td>3</td>\n",
       "      <td>2</td>\n",
       "      <td>3</td>\n",
       "      <td>2</td>\n",
       "      <td>3</td>\n",
       "      <td>4</td>\n",
       "      <td>4</td>\n",
       "      <td>3</td>\n",
       "      <td>3</td>\n",
       "      <td>2</td>\n",
       "      <td>2</td>\n",
       "    </tr>\n",
       "  </tbody>\n",
       "</table>\n",
       "</div>"
      ],
      "text/plain": [
       "        Year Agriculture Architecture Art and Performance      Biology  \\\n",
       "count     45          45           45                  45           45   \n",
       "unique    44          44           44                  31           44   \n",
       "top     1970  4.22979798  11.92100539                61.3  29.08836297   \n",
       "freq       2           2            2                   3            2   \n",
       "\n",
       "           Business Communications and Journalism Computer Science  \\\n",
       "count            45                            45               45   \n",
       "unique           44                            38               39   \n",
       "top     9.064438975                            60             13.6   \n",
       "freq              2                             3                3   \n",
       "\n",
       "          Education Engineering      English Foreign Languages  \\\n",
       "count            45          45           45                45   \n",
       "unique           44          38           44                35   \n",
       "top     74.53532758        16.8  65.57092343              71.2   \n",
       "freq              2           3            2                 3   \n",
       "\n",
       "       Health Professions Math and Statistics Physical Sciences Psychology  \\\n",
       "count                  45                  45                45         45   \n",
       "unique                 35                  34                40         38   \n",
       "top                  83.5                  47              40.7       77.5   \n",
       "freq                    4                   4                 3          3   \n",
       "\n",
       "       Public Administration Social Sciences and History  \n",
       "count                     45                          45  \n",
       "unique                    39                          37  \n",
       "top                     68.4                        36.8  \n",
       "freq                       2                           2  "
      ]
     },
     "execution_count": 7,
     "metadata": {},
     "output_type": "execute_result"
    }
   ],
   "source": [
    "data_csv.describe()"
   ]
  },
  {
   "cell_type": "code",
   "execution_count": 8,
   "metadata": {},
   "outputs": [
    {
     "name": "stdout",
     "output_type": "stream",
     "text": [
      "<class 'pandas.core.frame.DataFrame'>\n",
      "RangeIndex: 45 entries, 0 to 44\n",
      "Data columns (total 18 columns):\n",
      " #   Column                         Non-Null Count  Dtype \n",
      "---  ------                         --------------  ----- \n",
      " 0   Year                           45 non-null     object\n",
      " 1   Agriculture                    45 non-null     object\n",
      " 2   Architecture                   45 non-null     object\n",
      " 3   Art and Performance            45 non-null     object\n",
      " 4   Biology                        45 non-null     object\n",
      " 5   Business                       45 non-null     object\n",
      " 6   Communications and Journalism  45 non-null     object\n",
      " 7   Computer Science               45 non-null     object\n",
      " 8   Education                      45 non-null     object\n",
      " 9   Engineering                    45 non-null     object\n",
      " 10  English                        45 non-null     object\n",
      " 11  Foreign Languages              45 non-null     object\n",
      " 12  Health Professions             45 non-null     object\n",
      " 13  Math and Statistics            45 non-null     object\n",
      " 14  Physical Sciences              45 non-null     object\n",
      " 15  Psychology                     45 non-null     object\n",
      " 16  Public Administration          45 non-null     object\n",
      " 17  Social Sciences and History    45 non-null     object\n",
      "dtypes: object(18)\n",
      "memory usage: 6.5+ KB\n"
     ]
    }
   ],
   "source": [
    "data_csv.info()"
   ]
  },
  {
   "cell_type": "code",
   "execution_count": 9,
   "metadata": {},
   "outputs": [
    {
     "data": {
      "text/plain": [
       "Year                             0\n",
       "Agriculture                      0\n",
       "Architecture                     0\n",
       "Art and Performance              0\n",
       "Biology                          0\n",
       "Business                         0\n",
       "Communications and Journalism    0\n",
       "Computer Science                 0\n",
       "Education                        0\n",
       "Engineering                      0\n",
       "English                          0\n",
       "Foreign Languages                0\n",
       "Health Professions               0\n",
       "Math and Statistics              0\n",
       "Physical Sciences                0\n",
       "Psychology                       0\n",
       "Public Administration            0\n",
       "Social Sciences and History      0\n",
       "dtype: int64"
      ]
     },
     "execution_count": 9,
     "metadata": {},
     "output_type": "execute_result"
    }
   ],
   "source": [
    "data_csv.isnull().sum()"
   ]
  },
  {
   "cell_type": "code",
   "execution_count": 10,
   "metadata": {},
   "outputs": [],
   "source": [
    "data = pd.DataFrame({\n",
    "    'Name': [\"Anna\", \"Karen\", \"John\", \"Alice\", \"Kevin\", \"Sanne\", \"Bob\", \"Emily\"],\n",
    "    'Age': [35, 30, 57, 65, 25, 19, 20, 65],\n",
    "    'Salary': [20000, 60000, 145000, 170000, 30000, 10000, 220000, 120000],\n",
    "    'Department': [\"Tech\", \"Tech\", \"Tech\", \"Healthcare\", \"Operations\", \"Operations\", \"Tech\", \"Tech\"]\n",
    "})"
   ]
  },
  {
   "cell_type": "code",
   "execution_count": 11,
   "metadata": {},
   "outputs": [
    {
     "data": {
      "text/html": [
       "<div>\n",
       "<style scoped>\n",
       "    .dataframe tbody tr th:only-of-type {\n",
       "        vertical-align: middle;\n",
       "    }\n",
       "\n",
       "    .dataframe tbody tr th {\n",
       "        vertical-align: top;\n",
       "    }\n",
       "\n",
       "    .dataframe thead tr th {\n",
       "        text-align: left;\n",
       "    }\n",
       "\n",
       "    .dataframe thead tr:last-of-type th {\n",
       "        text-align: right;\n",
       "    }\n",
       "</style>\n",
       "<table border=\"1\" class=\"dataframe\">\n",
       "  <thead>\n",
       "    <tr>\n",
       "      <th></th>\n",
       "      <th colspan=\"3\" halign=\"left\">Salary</th>\n",
       "      <th colspan=\"2\" halign=\"left\">Age</th>\n",
       "    </tr>\n",
       "    <tr>\n",
       "      <th></th>\n",
       "      <th>sum</th>\n",
       "      <th>mean</th>\n",
       "      <th>std</th>\n",
       "      <th>std</th>\n",
       "      <th>mean</th>\n",
       "    </tr>\n",
       "    <tr>\n",
       "      <th>Department</th>\n",
       "      <th></th>\n",
       "      <th></th>\n",
       "      <th></th>\n",
       "      <th></th>\n",
       "      <th></th>\n",
       "    </tr>\n",
       "  </thead>\n",
       "  <tbody>\n",
       "    <tr>\n",
       "      <th>Healthcare</th>\n",
       "      <td>170000</td>\n",
       "      <td>170000.0</td>\n",
       "      <td>NaN</td>\n",
       "      <td>NaN</td>\n",
       "      <td>65.0</td>\n",
       "    </tr>\n",
       "    <tr>\n",
       "      <th>Operations</th>\n",
       "      <td>40000</td>\n",
       "      <td>20000.0</td>\n",
       "      <td>14142.135624</td>\n",
       "      <td>4.242641</td>\n",
       "      <td>22.0</td>\n",
       "    </tr>\n",
       "    <tr>\n",
       "      <th>Tech</th>\n",
       "      <td>565000</td>\n",
       "      <td>113000.0</td>\n",
       "      <td>77427.385336</td>\n",
       "      <td>18.902381</td>\n",
       "      <td>41.4</td>\n",
       "    </tr>\n",
       "  </tbody>\n",
       "</table>\n",
       "</div>"
      ],
      "text/plain": [
       "            Salary                                Age      \n",
       "               sum      mean           std        std  mean\n",
       "Department                                                 \n",
       "Healthcare  170000  170000.0           NaN        NaN  65.0\n",
       "Operations   40000   20000.0  14142.135624   4.242641  22.0\n",
       "Tech        565000  113000.0  77427.385336  18.902381  41.4"
      ]
     },
     "execution_count": 11,
     "metadata": {},
     "output_type": "execute_result"
    }
   ],
   "source": [
    "data.groupby(\"Department\").agg({\"Salary\": [\"sum\", \"mean\", \"std\"], \"Age\": [\"std\",\"mean\"]})"
   ]
  },
  {
   "cell_type": "code",
   "execution_count": 12,
   "metadata": {},
   "outputs": [
    {
     "data": {
      "text/html": [
       "<div>\n",
       "<style scoped>\n",
       "    .dataframe tbody tr th:only-of-type {\n",
       "        vertical-align: middle;\n",
       "    }\n",
       "\n",
       "    .dataframe tbody tr th {\n",
       "        vertical-align: top;\n",
       "    }\n",
       "\n",
       "    .dataframe thead th {\n",
       "        text-align: right;\n",
       "    }\n",
       "</style>\n",
       "<table border=\"1\" class=\"dataframe\">\n",
       "  <thead>\n",
       "    <tr style=\"text-align: right;\">\n",
       "      <th></th>\n",
       "      <th>Name</th>\n",
       "      <th>Age</th>\n",
       "      <th>Salary</th>\n",
       "      <th>Department</th>\n",
       "    </tr>\n",
       "  </thead>\n",
       "  <tbody>\n",
       "    <tr>\n",
       "      <th>0</th>\n",
       "      <td>Anna</td>\n",
       "      <td>35</td>\n",
       "      <td>20000</td>\n",
       "      <td>Tech</td>\n",
       "    </tr>\n",
       "    <tr>\n",
       "      <th>1</th>\n",
       "      <td>Karen</td>\n",
       "      <td>30</td>\n",
       "      <td>60000</td>\n",
       "      <td>Tech</td>\n",
       "    </tr>\n",
       "  </tbody>\n",
       "</table>\n",
       "</div>"
      ],
      "text/plain": [
       "    Name  Age  Salary Department\n",
       "0   Anna   35   20000       Tech\n",
       "1  Karen   30   60000       Tech"
      ]
     },
     "execution_count": 12,
     "metadata": {},
     "output_type": "execute_result"
    }
   ],
   "source": [
    "data[data.Age.isin([35,30])]"
   ]
  },
  {
   "cell_type": "code",
   "execution_count": 13,
   "metadata": {},
   "outputs": [
    {
     "data": {
      "text/html": [
       "<div>\n",
       "<style scoped>\n",
       "    .dataframe tbody tr th:only-of-type {\n",
       "        vertical-align: middle;\n",
       "    }\n",
       "\n",
       "    .dataframe tbody tr th {\n",
       "        vertical-align: top;\n",
       "    }\n",
       "\n",
       "    .dataframe thead th {\n",
       "        text-align: right;\n",
       "    }\n",
       "</style>\n",
       "<table border=\"1\" class=\"dataframe\">\n",
       "  <thead>\n",
       "    <tr style=\"text-align: right;\">\n",
       "      <th></th>\n",
       "      <th>Name</th>\n",
       "      <th>Age</th>\n",
       "      <th>Salary</th>\n",
       "      <th>Department</th>\n",
       "    </tr>\n",
       "  </thead>\n",
       "  <tbody>\n",
       "    <tr>\n",
       "      <th>3</th>\n",
       "      <td>Alice</td>\n",
       "      <td>65</td>\n",
       "      <td>170000</td>\n",
       "      <td>Healthcare</td>\n",
       "    </tr>\n",
       "    <tr>\n",
       "      <th>7</th>\n",
       "      <td>Emily</td>\n",
       "      <td>65</td>\n",
       "      <td>120000</td>\n",
       "      <td>Tech</td>\n",
       "    </tr>\n",
       "  </tbody>\n",
       "</table>\n",
       "</div>"
      ],
      "text/plain": [
       "    Name  Age  Salary  Department\n",
       "3  Alice   65  170000  Healthcare\n",
       "7  Emily   65  120000        Tech"
      ]
     },
     "execution_count": 13,
     "metadata": {},
     "output_type": "execute_result"
    }
   ],
   "source": [
    "data[(data.Salary > 60000) & (data.Age > 57)]"
   ]
  },
  {
   "cell_type": "code",
   "execution_count": 14,
   "metadata": {},
   "outputs": [
    {
     "data": {
      "text/plain": [
       "ModeResult(mode=np.int64(65), count=np.int64(2))"
      ]
     },
     "execution_count": 14,
     "metadata": {},
     "output_type": "execute_result"
    }
   ],
   "source": [
    "stats.mode(data.Age)"
   ]
  },
  {
   "cell_type": "markdown",
   "metadata": {},
   "source": [
    "---"
   ]
  },
  {
   "cell_type": "markdown",
   "metadata": {},
   "source": [
    "## **Merge**"
   ]
  },
  {
   "cell_type": "code",
   "execution_count": 15,
   "metadata": {},
   "outputs": [],
   "source": [
    "data_1 = pd.DataFrame({\n",
    "    \"key\": [\"A\", \"B\", \"C\", \"D\", \"E\"],\n",
    "    \"value\": [1, 2, 3, 4, 5]\n",
    "})\n",
    "\n",
    "data_2 = pd.DataFrame({\n",
    "    \"key\": [\"D\", \"E\", \"F\", \"G\", \"H\"],\n",
    "    \"value\": [4, 5,6,7,8]\n",
    "})"
   ]
  },
  {
   "cell_type": "code",
   "execution_count": 16,
   "metadata": {},
   "outputs": [
    {
     "data": {
      "text/html": [
       "<div>\n",
       "<style scoped>\n",
       "    .dataframe tbody tr th:only-of-type {\n",
       "        vertical-align: middle;\n",
       "    }\n",
       "\n",
       "    .dataframe tbody tr th {\n",
       "        vertical-align: top;\n",
       "    }\n",
       "\n",
       "    .dataframe thead th {\n",
       "        text-align: right;\n",
       "    }\n",
       "</style>\n",
       "<table border=\"1\" class=\"dataframe\">\n",
       "  <thead>\n",
       "    <tr style=\"text-align: right;\">\n",
       "      <th></th>\n",
       "      <th>key</th>\n",
       "      <th>value</th>\n",
       "    </tr>\n",
       "  </thead>\n",
       "  <tbody>\n",
       "    <tr>\n",
       "      <th>0</th>\n",
       "      <td>D</td>\n",
       "      <td>4</td>\n",
       "    </tr>\n",
       "    <tr>\n",
       "      <th>1</th>\n",
       "      <td>E</td>\n",
       "      <td>5</td>\n",
       "    </tr>\n",
       "    <tr>\n",
       "      <th>2</th>\n",
       "      <td>F</td>\n",
       "      <td>6</td>\n",
       "    </tr>\n",
       "    <tr>\n",
       "      <th>3</th>\n",
       "      <td>G</td>\n",
       "      <td>7</td>\n",
       "    </tr>\n",
       "    <tr>\n",
       "      <th>4</th>\n",
       "      <td>H</td>\n",
       "      <td>8</td>\n",
       "    </tr>\n",
       "  </tbody>\n",
       "</table>\n",
       "</div>"
      ],
      "text/plain": [
       "  key  value\n",
       "0   D      4\n",
       "1   E      5\n",
       "2   F      6\n",
       "3   G      7\n",
       "4   H      8"
      ]
     },
     "execution_count": 16,
     "metadata": {},
     "output_type": "execute_result"
    }
   ],
   "source": [
    "data_2"
   ]
  },
  {
   "cell_type": "code",
   "execution_count": 17,
   "metadata": {},
   "outputs": [],
   "source": [
    "merge_data = pd.merge(data_1, data_2, on=\"key\", how=\"left\", indicator=True)\n",
    "left_anti_joimn = merge_data[merge_data._merge == \"left_only\"].drop(\"_merge\", axis=1)"
   ]
  },
  {
   "cell_type": "code",
   "execution_count": 18,
   "metadata": {},
   "outputs": [
    {
     "data": {
      "text/html": [
       "<div>\n",
       "<style scoped>\n",
       "    .dataframe tbody tr th:only-of-type {\n",
       "        vertical-align: middle;\n",
       "    }\n",
       "\n",
       "    .dataframe tbody tr th {\n",
       "        vertical-align: top;\n",
       "    }\n",
       "\n",
       "    .dataframe thead th {\n",
       "        text-align: right;\n",
       "    }\n",
       "</style>\n",
       "<table border=\"1\" class=\"dataframe\">\n",
       "  <thead>\n",
       "    <tr style=\"text-align: right;\">\n",
       "      <th></th>\n",
       "      <th>key</th>\n",
       "      <th>value_x</th>\n",
       "      <th>value_y</th>\n",
       "    </tr>\n",
       "  </thead>\n",
       "  <tbody>\n",
       "    <tr>\n",
       "      <th>0</th>\n",
       "      <td>A</td>\n",
       "      <td>1</td>\n",
       "      <td>NaN</td>\n",
       "    </tr>\n",
       "    <tr>\n",
       "      <th>1</th>\n",
       "      <td>B</td>\n",
       "      <td>2</td>\n",
       "      <td>NaN</td>\n",
       "    </tr>\n",
       "    <tr>\n",
       "      <th>2</th>\n",
       "      <td>C</td>\n",
       "      <td>3</td>\n",
       "      <td>NaN</td>\n",
       "    </tr>\n",
       "  </tbody>\n",
       "</table>\n",
       "</div>"
      ],
      "text/plain": [
       "  key  value_x  value_y\n",
       "0   A        1      NaN\n",
       "1   B        2      NaN\n",
       "2   C        3      NaN"
      ]
     },
     "execution_count": 18,
     "metadata": {},
     "output_type": "execute_result"
    }
   ],
   "source": [
    "left_anti_joimn"
   ]
  },
  {
   "cell_type": "markdown",
   "metadata": {},
   "source": [
    "---"
   ]
  },
  {
   "cell_type": "markdown",
   "metadata": {},
   "source": [
    "## **Normal distribution**"
   ]
  },
  {
   "cell_type": "code",
   "execution_count": 19,
   "metadata": {},
   "outputs": [
    {
     "data": {
      "image/png": "[encoded data removed]",
      "text/plain": [
       "<Figure size 640x480 with 1 Axes>"
      ]
     },
     "metadata": {},
     "output_type": "display_data"
    }
   ],
   "source": [
    "X_normal = np.random.normal(0,1,1000)\n",
    "count, bins, ignore = plt.hist(X_normal, 30, density=True, color=\"green\", label=\"Sampling distribution\")\n",
    "\n",
    "x_value = np.arange(-4,4,0.01)\n",
    "y_value = norm.pdf(x_value)\n",
    "plt.plot(x_value, y_value, color=\"y\", linewidth=2, label=\"Population distribution\")\n",
    "\n",
    "plt.ylabel(\"Probability\")\n",
    "plt.title(\"Randomly generating 1000 observations from normal distribution\")\n",
    "plt.legend()\n",
    "plt.show()"
   ]
  },
  {
   "cell_type": "markdown",
   "metadata": {},
   "source": [
    "---"
   ]
  },
  {
   "cell_type": "markdown",
   "metadata": {},
   "source": [
    "## **Hypothesis testing**"
   ]
  },
  {
   "cell_type": "markdown",
   "metadata": {},
   "source": [
    "**Null Hypothesis (H₀)**: The CTR for the control and experimental groups are the same.  \n",
    "## $$ H_0: p_{con}= p_{exp}$$\n",
    "\n",
    "**Alternative Hypothesis (H₁)**: The CTR for the control and experimental groups are different.  \n",
    "## $$ H_1: p_{con} \\neq p_{exp} $$"
   ]
  },
  {
   "cell_type": "markdown",
   "metadata": {},
   "source": [
    "**Step 1**: Hypothesis of A/B test.  \n",
    "**Step 2**: A/B test design | power analysis.  \n",
    "**Step 3**:  \n",
    "**Step 4**:  \n",
    "**Step 5**:  "
   ]
  },
  {
   "cell_type": "markdown",
   "metadata": {},
   "source": [
    "**Determine power of the test**  \n",
    "- It is the probability of correctly rejecting H0 when H0 is false.  \n",
    "- In other words it is the probability of not making a Type 2 error (not rejecting H0 when it is false).  \n",
    "- Type 2 error = beta, therefore power of test equal to (1 - beta).  \n",
    "- Common to pick 80% (meaning we will commit a Type 2 error 20% of the time).  "
   ]
  },
  {
   "cell_type": "markdown",
   "metadata": {},
   "source": [
    "**Determine significance level**  \n",
    "- Probability of rejecting H0 when H0 is true i.e. finding an effect when there is none.  \n",
    "- Probability of making a false discovery (false positive).  \n",
    "- Type 1 error = alpha.  \n",
    "- Common to pick 5% (i.e. 5% of outputs will be false positives).  \n",
    "- Lowering the significance level makes the test more stringent and therefore harder to reject H0.  "
   ]
  },
  {
   "cell_type": "markdown",
   "metadata": {},
   "source": [
    "**Determine minimum detectable effect**  \n",
    "- What is the smallest effect that would matter in practice.  \n",
    "- Over and above the significance level what is the difference between scenarios that must be achieved for us reject H0.  \n",
    "- Practical significance.  \n",
    "- Measured by delta.  "
   ]
  },
  {
   "cell_type": "markdown",
   "metadata": {},
   "source": [
    "**Business hypothesis**: describes what two things are being compared.  \n",
    "\n",
    "**Statistical hypothesis**: Used to determine if there is significant difference between observed and expected data.  \n",
    "**H0**: Subject to rejection.  \n",
    "**H1**: Subject to acceptance.  \n",
    "\n",
    "**Primary metric**: How to measure success for experimental & control group (e.g. clicks). Used to identify if there is statistical significance.  "
   ]
  },
  {
   "cell_type": "markdown",
   "metadata": {},
   "source": [
    "---"
   ]
  },
  {
   "cell_type": "markdown",
   "metadata": {},
   "source": [
    "## **A/B testing**"
   ]
  },
  {
   "cell_type": "code",
   "execution_count": 20,
   "metadata": {},
   "outputs": [
    {
     "data": {
      "text/html": [
       "<div>\n",
       "<style scoped>\n",
       "    .dataframe tbody tr th:only-of-type {\n",
       "        vertical-align: middle;\n",
       "    }\n",
       "\n",
       "    .dataframe tbody tr th {\n",
       "        vertical-align: top;\n",
       "    }\n",
       "\n",
       "    .dataframe thead th {\n",
       "        text-align: right;\n",
       "    }\n",
       "</style>\n",
       "<table border=\"1\" class=\"dataframe\">\n",
       "  <thead>\n",
       "    <tr style=\"text-align: right;\">\n",
       "      <th></th>\n",
       "      <th>user_id</th>\n",
       "      <th>group</th>\n",
       "      <th>views</th>\n",
       "      <th>clicks</th>\n",
       "    </tr>\n",
       "  </thead>\n",
       "  <tbody>\n",
       "    <tr>\n",
       "      <th>0</th>\n",
       "      <td>1</td>\n",
       "      <td>control</td>\n",
       "      <td>10.0</td>\n",
       "      <td>0.0</td>\n",
       "    </tr>\n",
       "    <tr>\n",
       "      <th>1</th>\n",
       "      <td>2</td>\n",
       "      <td>control</td>\n",
       "      <td>1.0</td>\n",
       "      <td>0.0</td>\n",
       "    </tr>\n",
       "    <tr>\n",
       "      <th>2</th>\n",
       "      <td>3</td>\n",
       "      <td>control</td>\n",
       "      <td>1.0</td>\n",
       "      <td>0.0</td>\n",
       "    </tr>\n",
       "    <tr>\n",
       "      <th>3</th>\n",
       "      <td>4</td>\n",
       "      <td>control</td>\n",
       "      <td>2.0</td>\n",
       "      <td>0.0</td>\n",
       "    </tr>\n",
       "    <tr>\n",
       "      <th>4</th>\n",
       "      <td>5</td>\n",
       "      <td>control</td>\n",
       "      <td>3.0</td>\n",
       "      <td>0.0</td>\n",
       "    </tr>\n",
       "  </tbody>\n",
       "</table>\n",
       "</div>"
      ],
      "text/plain": [
       "   user_id    group  views  clicks\n",
       "0        1  control   10.0     0.0\n",
       "1        2  control    1.0     0.0\n",
       "2        3  control    1.0     0.0\n",
       "3        4  control    2.0     0.0\n",
       "4        5  control    3.0     0.0"
      ]
     },
     "execution_count": 20,
     "metadata": {},
     "output_type": "execute_result"
    }
   ],
   "source": [
    "# Simulated user-aggregated data from an experiment with webpage views and button clicks attributes.\n",
    "data_ab = pd.read_csv(\"data/ab_test_data.csv\")\n",
    "data_ab.head()"
   ]
  },
  {
   "cell_type": "code",
   "execution_count": 21,
   "metadata": {},
   "outputs": [
    {
     "name": "stdout",
     "output_type": "stream",
     "text": [
      "<class 'pandas.core.frame.DataFrame'>\n",
      "RangeIndex: 120000 entries, 0 to 119999\n",
      "Data columns (total 4 columns):\n",
      " #   Column   Non-Null Count   Dtype  \n",
      "---  ------   --------------   -----  \n",
      " 0   user_id  120000 non-null  int64  \n",
      " 1   group    120000 non-null  object \n",
      " 2   views    120000 non-null  float64\n",
      " 3   clicks   120000 non-null  float64\n",
      "dtypes: float64(2), int64(1), object(1)\n",
      "memory usage: 3.7+ MB\n"
     ]
    }
   ],
   "source": [
    "data_ab.info()"
   ]
  },
  {
   "cell_type": "code",
   "execution_count": 22,
   "metadata": {},
   "outputs": [],
   "source": [
    "data_ab.drop(\"views\", axis=1, inplace=True)"
   ]
  },
  {
   "cell_type": "code",
   "execution_count": 23,
   "metadata": {},
   "outputs": [
    {
     "data": {
      "text/html": [
       "<div>\n",
       "<style scoped>\n",
       "    .dataframe tbody tr th:only-of-type {\n",
       "        vertical-align: middle;\n",
       "    }\n",
       "\n",
       "    .dataframe tbody tr th {\n",
       "        vertical-align: top;\n",
       "    }\n",
       "\n",
       "    .dataframe thead th {\n",
       "        text-align: right;\n",
       "    }\n",
       "</style>\n",
       "<table border=\"1\" class=\"dataframe\">\n",
       "  <thead>\n",
       "    <tr style=\"text-align: right;\">\n",
       "      <th></th>\n",
       "      <th>group</th>\n",
       "      <th>clicks</th>\n",
       "      <th>count</th>\n",
       "    </tr>\n",
       "  </thead>\n",
       "  <tbody>\n",
       "    <tr>\n",
       "      <th>0</th>\n",
       "      <td>control</td>\n",
       "      <td>0.0</td>\n",
       "      <td>51180</td>\n",
       "    </tr>\n",
       "    <tr>\n",
       "      <th>1</th>\n",
       "      <td>control</td>\n",
       "      <td>1.0</td>\n",
       "      <td>7640</td>\n",
       "    </tr>\n",
       "    <tr>\n",
       "      <th>2</th>\n",
       "      <td>control</td>\n",
       "      <td>2.0</td>\n",
       "      <td>960</td>\n",
       "    </tr>\n",
       "    <tr>\n",
       "      <th>3</th>\n",
       "      <td>control</td>\n",
       "      <td>3.0</td>\n",
       "      <td>165</td>\n",
       "    </tr>\n",
       "    <tr>\n",
       "      <th>4</th>\n",
       "      <td>control</td>\n",
       "      <td>4.0</td>\n",
       "      <td>38</td>\n",
       "    </tr>\n",
       "    <tr>\n",
       "      <th>5</th>\n",
       "      <td>control</td>\n",
       "      <td>5.0</td>\n",
       "      <td>9</td>\n",
       "    </tr>\n",
       "    <tr>\n",
       "      <th>6</th>\n",
       "      <td>control</td>\n",
       "      <td>6.0</td>\n",
       "      <td>5</td>\n",
       "    </tr>\n",
       "    <tr>\n",
       "      <th>7</th>\n",
       "      <td>control</td>\n",
       "      <td>7.0</td>\n",
       "      <td>3</td>\n",
       "    </tr>\n",
       "    <tr>\n",
       "      <th>8</th>\n",
       "      <td>test</td>\n",
       "      <td>0.0</td>\n",
       "      <td>50297</td>\n",
       "    </tr>\n",
       "    <tr>\n",
       "      <th>9</th>\n",
       "      <td>test</td>\n",
       "      <td>1.0</td>\n",
       "      <td>8206</td>\n",
       "    </tr>\n",
       "    <tr>\n",
       "      <th>10</th>\n",
       "      <td>test</td>\n",
       "      <td>2.0</td>\n",
       "      <td>1201</td>\n",
       "    </tr>\n",
       "    <tr>\n",
       "      <th>11</th>\n",
       "      <td>test</td>\n",
       "      <td>3.0</td>\n",
       "      <td>212</td>\n",
       "    </tr>\n",
       "    <tr>\n",
       "      <th>12</th>\n",
       "      <td>test</td>\n",
       "      <td>4.0</td>\n",
       "      <td>60</td>\n",
       "    </tr>\n",
       "    <tr>\n",
       "      <th>13</th>\n",
       "      <td>test</td>\n",
       "      <td>5.0</td>\n",
       "      <td>15</td>\n",
       "    </tr>\n",
       "    <tr>\n",
       "      <th>14</th>\n",
       "      <td>test</td>\n",
       "      <td>6.0</td>\n",
       "      <td>5</td>\n",
       "    </tr>\n",
       "    <tr>\n",
       "      <th>15</th>\n",
       "      <td>test</td>\n",
       "      <td>7.0</td>\n",
       "      <td>2</td>\n",
       "    </tr>\n",
       "    <tr>\n",
       "      <th>16</th>\n",
       "      <td>test</td>\n",
       "      <td>8.0</td>\n",
       "      <td>1</td>\n",
       "    </tr>\n",
       "    <tr>\n",
       "      <th>17</th>\n",
       "      <td>test</td>\n",
       "      <td>9.0</td>\n",
       "      <td>1</td>\n",
       "    </tr>\n",
       "  </tbody>\n",
       "</table>\n",
       "</div>"
      ],
      "text/plain": [
       "      group  clicks  count\n",
       "0   control     0.0  51180\n",
       "1   control     1.0   7640\n",
       "2   control     2.0    960\n",
       "3   control     3.0    165\n",
       "4   control     4.0     38\n",
       "5   control     5.0      9\n",
       "6   control     6.0      5\n",
       "7   control     7.0      3\n",
       "8      test     0.0  50297\n",
       "9      test     1.0   8206\n",
       "10     test     2.0   1201\n",
       "11     test     3.0    212\n",
       "12     test     4.0     60\n",
       "13     test     5.0     15\n",
       "14     test     6.0      5\n",
       "15     test     7.0      2\n",
       "16     test     8.0      1\n",
       "17     test     9.0      1"
      ]
     },
     "execution_count": 23,
     "metadata": {},
     "output_type": "execute_result"
    }
   ],
   "source": [
    "data_ab.groupby([\"group\", \"clicks\"]).size().reset_index(name='count')"
   ]
  },
  {
   "cell_type": "code",
   "execution_count": 24,
   "metadata": {},
   "outputs": [],
   "source": [
    "# where clicks > 1 drop row as these appear to be anomalies\n",
    "\n",
    "data_ab.drop(data_ab[data_ab.clicks > 1].index, inplace=True)"
   ]
  },
  {
   "cell_type": "code",
   "execution_count": 25,
   "metadata": {},
   "outputs": [
    {
     "data": {
      "text/html": [
       "<div>\n",
       "<style scoped>\n",
       "    .dataframe tbody tr th:only-of-type {\n",
       "        vertical-align: middle;\n",
       "    }\n",
       "\n",
       "    .dataframe tbody tr th {\n",
       "        vertical-align: top;\n",
       "    }\n",
       "\n",
       "    .dataframe thead th {\n",
       "        text-align: right;\n",
       "    }\n",
       "</style>\n",
       "<table border=\"1\" class=\"dataframe\">\n",
       "  <thead>\n",
       "    <tr style=\"text-align: right;\">\n",
       "      <th></th>\n",
       "      <th>user_id</th>\n",
       "      <th>clicks</th>\n",
       "    </tr>\n",
       "  </thead>\n",
       "  <tbody>\n",
       "    <tr>\n",
       "      <th>count</th>\n",
       "      <td>117323.000000</td>\n",
       "      <td>117323.000000</td>\n",
       "    </tr>\n",
       "    <tr>\n",
       "      <th>mean</th>\n",
       "      <td>59920.177178</td>\n",
       "      <td>0.135063</td>\n",
       "    </tr>\n",
       "    <tr>\n",
       "      <th>std</th>\n",
       "      <td>34640.021476</td>\n",
       "      <td>0.341792</td>\n",
       "    </tr>\n",
       "    <tr>\n",
       "      <th>min</th>\n",
       "      <td>1.000000</td>\n",
       "      <td>0.000000</td>\n",
       "    </tr>\n",
       "    <tr>\n",
       "      <th>25%</th>\n",
       "      <td>29928.500000</td>\n",
       "      <td>0.000000</td>\n",
       "    </tr>\n",
       "    <tr>\n",
       "      <th>50%</th>\n",
       "      <td>59838.000000</td>\n",
       "      <td>0.000000</td>\n",
       "    </tr>\n",
       "    <tr>\n",
       "      <th>75%</th>\n",
       "      <td>89925.500000</td>\n",
       "      <td>0.000000</td>\n",
       "    </tr>\n",
       "    <tr>\n",
       "      <th>max</th>\n",
       "      <td>120000.000000</td>\n",
       "      <td>1.000000</td>\n",
       "    </tr>\n",
       "  </tbody>\n",
       "</table>\n",
       "</div>"
      ],
      "text/plain": [
       "             user_id         clicks\n",
       "count  117323.000000  117323.000000\n",
       "mean    59920.177178       0.135063\n",
       "std     34640.021476       0.341792\n",
       "min         1.000000       0.000000\n",
       "25%     29928.500000       0.000000\n",
       "50%     59838.000000       0.000000\n",
       "75%     89925.500000       0.000000\n",
       "max    120000.000000       1.000000"
      ]
     },
     "execution_count": 25,
     "metadata": {},
     "output_type": "execute_result"
    }
   ],
   "source": [
    "data_ab.describe()"
   ]
  },
  {
   "cell_type": "code",
   "execution_count": 26,
   "metadata": {},
   "outputs": [
    {
     "data": {
      "text/html": [
       "<div>\n",
       "<style scoped>\n",
       "    .dataframe tbody tr th:only-of-type {\n",
       "        vertical-align: middle;\n",
       "    }\n",
       "\n",
       "    .dataframe tbody tr th {\n",
       "        vertical-align: top;\n",
       "    }\n",
       "\n",
       "    .dataframe thead th {\n",
       "        text-align: right;\n",
       "    }\n",
       "</style>\n",
       "<table border=\"1\" class=\"dataframe\">\n",
       "  <thead>\n",
       "    <tr style=\"text-align: right;\">\n",
       "      <th></th>\n",
       "      <th>group</th>\n",
       "      <th>clicks</th>\n",
       "      <th>count</th>\n",
       "    </tr>\n",
       "  </thead>\n",
       "  <tbody>\n",
       "    <tr>\n",
       "      <th>0</th>\n",
       "      <td>control</td>\n",
       "      <td>0.0</td>\n",
       "      <td>51180</td>\n",
       "    </tr>\n",
       "    <tr>\n",
       "      <th>1</th>\n",
       "      <td>control</td>\n",
       "      <td>1.0</td>\n",
       "      <td>7640</td>\n",
       "    </tr>\n",
       "    <tr>\n",
       "      <th>2</th>\n",
       "      <td>test</td>\n",
       "      <td>0.0</td>\n",
       "      <td>50297</td>\n",
       "    </tr>\n",
       "    <tr>\n",
       "      <th>3</th>\n",
       "      <td>test</td>\n",
       "      <td>1.0</td>\n",
       "      <td>8206</td>\n",
       "    </tr>\n",
       "  </tbody>\n",
       "</table>\n",
       "</div>"
      ],
      "text/plain": [
       "     group  clicks  count\n",
       "0  control     0.0  51180\n",
       "1  control     1.0   7640\n",
       "2     test     0.0  50297\n",
       "3     test     1.0   8206"
      ]
     },
     "execution_count": 26,
     "metadata": {},
     "output_type": "execute_result"
    }
   ],
   "source": [
    "data_ab.groupby([\"group\", \"clicks\"]).size().reset_index(name='count')"
   ]
  },
  {
   "cell_type": "code",
   "execution_count": 27,
   "metadata": {},
   "outputs": [
    {
     "data": {
      "text/html": [
       "<div>\n",
       "<style scoped>\n",
       "    .dataframe tbody tr th:only-of-type {\n",
       "        vertical-align: middle;\n",
       "    }\n",
       "\n",
       "    .dataframe tbody tr th {\n",
       "        vertical-align: top;\n",
       "    }\n",
       "\n",
       "    .dataframe thead tr th {\n",
       "        text-align: left;\n",
       "    }\n",
       "\n",
       "    .dataframe thead tr:last-of-type th {\n",
       "        text-align: right;\n",
       "    }\n",
       "</style>\n",
       "<table border=\"1\" class=\"dataframe\">\n",
       "  <thead>\n",
       "    <tr>\n",
       "      <th></th>\n",
       "      <th colspan=\"2\" halign=\"left\">clicks</th>\n",
       "    </tr>\n",
       "    <tr>\n",
       "      <th></th>\n",
       "      <th>sum</th>\n",
       "      <th>mean</th>\n",
       "    </tr>\n",
       "    <tr>\n",
       "      <th>group</th>\n",
       "      <th></th>\n",
       "      <th></th>\n",
       "    </tr>\n",
       "  </thead>\n",
       "  <tbody>\n",
       "    <tr>\n",
       "      <th>control</th>\n",
       "      <td>7640.0</td>\n",
       "      <td>0.129888</td>\n",
       "    </tr>\n",
       "    <tr>\n",
       "      <th>test</th>\n",
       "      <td>8206.0</td>\n",
       "      <td>0.140266</td>\n",
       "    </tr>\n",
       "  </tbody>\n",
       "</table>\n",
       "</div>"
      ],
      "text/plain": [
       "         clicks          \n",
       "            sum      mean\n",
       "group                    \n",
       "control  7640.0  0.129888\n",
       "test     8206.0  0.140266"
      ]
     },
     "execution_count": 27,
     "metadata": {},
     "output_type": "execute_result"
    }
   ],
   "source": [
    "data_ab.groupby(\"group\").agg({\"clicks\": [\"sum\", \"mean\"]})"
   ]
  },
  {
   "cell_type": "code",
   "execution_count": 28,
   "metadata": {},
   "outputs": [],
   "source": [
    "total_clicks = data_ab.clicks.sum()\n",
    "total_count = data_ab.user_id.count()\n",
    "total_clicks_percent = total_clicks / total_count\n",
    "\n",
    "control_clicks = data_ab[data_ab.group == \"control\"].clicks.sum()\n",
    "control_impressions = data_ab[data_ab.group == \"control\"].user_id.count()\n",
    "p_con_hat = control_clicks / control_impressions\n",
    "\n",
    "test_clicks = data_ab[data_ab.group == \"test\"].clicks.sum()\n",
    "test_impressions = data_ab[data_ab.group == \"test\"].user_id.count()\n",
    "p_exp_hat = test_clicks / test_impressions"
   ]
  },
  {
   "cell_type": "code",
   "execution_count": 29,
   "metadata": {},
   "outputs": [
    {
     "name": "stdout",
     "output_type": "stream",
     "text": [
      "Click probability in control group: 0.13\n",
      "Click probability in test/experimental group: 0.14\n"
     ]
    }
   ],
   "source": [
    "print(f\"Click probability in control group: {p_con_hat:.2f}\\nClick probability in test/experimental group: {p_exp_hat:.2f}\")"
   ]
  },
  {
   "cell_type": "code",
   "execution_count": 30,
   "metadata": {},
   "outputs": [
    {
     "data": {
      "text/plain": [
       "np.float64(0.13506303111921789)"
      ]
     },
     "execution_count": 30,
     "metadata": {},
     "output_type": "execute_result"
    }
   ],
   "source": [
    "# Calculating estimate of pooled click probability\n",
    "p_pooled_hat = (control_clicks + test_clicks) / (control_impressions + test_impressions)\n",
    "p_pooled_hat"
   ]
  },
  {
   "cell_type": "code",
   "execution_count": 31,
   "metadata": {},
   "outputs": [
    {
     "data": {
      "text/plain": [
       "np.float64(3.982914231696163e-06)"
      ]
     },
     "execution_count": 31,
     "metadata": {},
     "output_type": "execute_result"
    }
   ],
   "source": [
    "# pooled variance\n",
    "pooled_variance = p_pooled_hat * (1-p_pooled_hat) * (1/control_impressions + 1/test_impressions)\n",
    "pooled_variance"
   ]
  },
  {
   "cell_type": "code",
   "execution_count": 32,
   "metadata": {},
   "outputs": [
    {
     "data": {
      "image/png": "[encoded data removed]",
      "text/plain": [
       "<Figure size 800x600 with 1 Axes>"
      ]
     },
     "metadata": {},
     "output_type": "display_data"
    }
   ],
   "source": [
    "fig = plt.figure(figsize=(8,6))\n",
    "\n",
    "palette = {0:\"lightblue\", 1:\"grey\"}\n",
    "\n",
    "# Create the countplot\n",
    "ax = sns.countplot(x=\"group\", hue=\"clicks\", data=data_ab, palette=palette)\n",
    "\n",
    "# Get the counts for each group\n",
    "group_counts = data_ab.groupby('group').size()\n",
    "\n",
    "# Add annotations for each bar\n",
    "for p in ax.patches:\n",
    "    height = p.get_height()\n",
    "    group = 'control' if p.get_x() < 0.5 else 'test'\n",
    "    total = group_counts.loc[group]\n",
    "    percentage = 100 * height / total\n",
    "    ax.text(p.get_x() + p.get_width() / 2., height + 5, f\"{percentage:.1f}%\", ha=\"center\", color=\"black\")\n",
    "\n",
    "plt.title(\"Click distribution in control & test groups\")\n",
    "plt.xlabel(\"Group\")\n",
    "plt.ylabel(\"Clicks\")\n",
    "plt.legend(title=\"Legend\", labels=[\"No click\", \"Click\"])\n",
    "plt.tight_layout()\n",
    "plt.show()"
   ]
  },
  {
   "cell_type": "code",
   "execution_count": 33,
   "metadata": {},
   "outputs": [
    {
     "data": {
      "text/plain": [
       "group\n",
       "control    58820\n",
       "test       58503\n",
       "dtype: int64"
      ]
     },
     "execution_count": 33,
     "metadata": {},
     "output_type": "execute_result"
    }
   ],
   "source": [
    "group_counts = data_ab.groupby(['group']).size()\n",
    "group_counts"
   ]
  },
  {
   "cell_type": "markdown",
   "metadata": {},
   "source": [
    "---"
   ]
  },
  {
   "cell_type": "markdown",
   "metadata": {},
   "source": [
    "### **Parameters of the model from power analysis**\n",
    "\n",
    "**&beta;**: Probability of type II error.  \n",
    "**(1-&beta;)**: Power of the test used to calculate sample size.  \n",
    "**&alpha;**: Probability of Type I error, significance level.  \n",
    "**&delta;**: Minimum detectable effect.  "
   ]
  },
  {
   "cell_type": "code",
   "execution_count": 34,
   "metadata": {},
   "outputs": [
    {
     "name": "stdout",
     "output_type": "stream",
     "text": [
      "Alpha significance level is: 0.05\n",
      "Delta minimum detectable effect is: 0.1\n"
     ]
    }
   ],
   "source": [
    "alpha = 0.05\n",
    "print(f\"Alpha significance level is: {alpha}\")\n",
    "\n",
    "delta = 0.1 # minimum detectable effect to make business decision\n",
    "print(f\"Delta minimum detectable effect is: {delta}\")"
   ]
  },
  {
   "cell_type": "markdown",
   "metadata": {},
   "source": [
    "## **Calculating standard error & test statistics**"
   ]
  },
  {
   "cell_type": "code",
   "execution_count": 35,
   "metadata": {},
   "outputs": [
    {
     "name": "stdout",
     "output_type": "stream",
     "text": [
      "Standard error is: 0.00199572398685193\n",
      "Test statistic for 2-sample Z-test is: -5.200377371882413\n",
      "Z-critical value for two-tailed standard normal distribution: 1.959963984540054\n",
      "Reject the null hypothesis\n"
     ]
    }
   ],
   "source": [
    "# standard error\n",
    "se = np.sqrt(pooled_variance)\n",
    "print(f\"Standard error is: {se}\")\n",
    "\n",
    "# computing test statistics of Z-test\n",
    "test_statistic = (p_con_hat - p_exp_hat) / se\n",
    "print(f\"Test statistic for 2-sample Z-test is: {test_statistic}\")\n",
    "\n",
    "# critical value of the two-tailed Z-test\n",
    "# allocated half of the alpha to each tail\n",
    "Z_crit = norm.ppf(1 - alpha/2)\n",
    "print(f\"Z-critical value for two-tailed standard normal distribution: {Z_crit}\")\n",
    "\n",
    "test_statistic_abs = np.abs(test_statistic)\n",
    "\n",
    "if (test_statistic_abs > Z_crit):\n",
    "    print(\"Reject the null hypothesis\")\n",
    "else: print(\"Do not reject the null hypothesis\")"
   ]
  },
  {
   "cell_type": "markdown",
   "metadata": {},
   "source": [
    "---"
   ]
  },
  {
   "cell_type": "markdown",
   "metadata": {},
   "source": [
    "## **P-values**"
   ]
  },
  {
   "cell_type": "markdown",
   "metadata": {},
   "source": [
    "The p-value is the probability of the condition under the Null occurring. Stated differently, the p-value is the probability, assuming the null hypothesis is true, of observing a result at least as extreme as the test statistic. The smaller the p-value, the stronger is the evidence against the Null Hypothesis, suggesting that it can be rejected."
   ]
  },
  {
   "cell_type": "markdown",
   "metadata": {},
   "source": [
    "- Low p-value (p < 0.05 at 5% significance level) provides strong evidence against H0, so we reject H0.  \n",
    "- High p-value (p > 0.05 at 5% significance level) indicates weak evidence against H0, so we fail to reject H0.  "
   ]
  },
  {
   "cell_type": "code",
   "execution_count": 36,
   "metadata": {},
   "outputs": [
    {
     "name": "stdout",
     "output_type": "stream",
     "text": [
      "p-value of the two-sample Z-test is: 0.00\n",
      "There is statistical significance at the 5% significance level, indicating that observed differences are unlikely to have occurred due to chance alone.\n"
     ]
    }
   ],
   "source": [
    "# calcuate p-value\n",
    "# sf is inverse of cumulative distribution function\n",
    "# two-tailed test\n",
    "p_value = 2 * norm.sf(abs(test_statistic))\n",
    "\n",
    "def is_statistical_significance(p_value, alpha):\n",
    "    print(f\"p-value of the two-sample Z-test is: {p_value:.2f}\")\n",
    "    if p_value < alpha:\n",
    "        print(\"There is statistical significance at the 5% significance level, indicating that observed differences are unlikely to have occurred due to chance alone.\")\n",
    "    else:\n",
    "        print(\"There is no statistical significance, indicating the observed difference could have occurred due to chance.\")\n",
    "\n",
    "is_statistical_significance(p_value, alpha)"
   ]
  },
  {
   "cell_type": "code",
   "execution_count": 37,
   "metadata": {},
   "outputs": [
    {
     "data": {
      "image/png": "[encoded data removed]",
      "text/plain": [
       "<Figure size 640x480 with 1 Axes>"
      ]
     },
     "metadata": {},
     "output_type": "display_data"
    }
   ],
   "source": [
    "from scipy.stats import norm\n",
    "import matplotlib.pyplot as plt\n",
    "mu = 0\n",
    "sigma = 1\n",
    "n = 100\n",
    "\n",
    "x = np.linspace(mu - 3*sigma, mu + 3*sigma, n)\n",
    "y = norm.pdf(x, mu, sigma)\n",
    "plt.plot(x, y, label=\"Standard normal distribution\")\n",
    "\n",
    "plt.fill_between(x,y, where=(x>Z_crit) | (x<-Z_crit), color='red', alpha=0.5, label=\"Rejection region\")\n",
    "plt.axvline(test_statistic, color='black', linestyle='dashed', linewidth=2, label=f\"Test statistic: {test_statistic:.2f}\")\n",
    "plt.axvline(Z_crit, color='green', linestyle='dashed', linewidth=2, label=f\"Critical value: {Z_crit:.2f}\")\n",
    "plt.axvline(-Z_crit, color='green', linestyle='dashed', linewidth=2)\n",
    "plt.xlabel(\"Z-value\")\n",
    "plt.ylabel(\"Probability density\")\n",
    "plt.title(\"Gaussian distribution with rejection region\")\n",
    "plt.legend()\n",
    "plt.show()"
   ]
  },
  {
   "cell_type": "markdown",
   "metadata": {},
   "source": [
    "## **Calculating confidence interval**"
   ]
  },
  {
   "cell_type": "code",
   "execution_count": 38,
   "metadata": {},
   "outputs": [
    {
     "name": "stdout",
     "output_type": "stream",
     "text": [
      "95% confidence interval of the two-sample Z-test is: [0.60%, 1.40%]\n",
      "The true population parameter for the difference between the experimental and control groups lies in this range with 95% confidence.\n",
      "At the lower end we expect a 0.60% difference.\n",
      "At the upper end we expect a 1.40% difference between the groups.\n"
     ]
    }
   ],
   "source": [
    "CI = [\n",
    "    round((p_exp_hat - p_con_hat) - se*Z_crit, 3),\n",
    "    round((p_exp_hat - p_con_hat) + se*Z_crit, 3)\n",
    "]\n",
    "\n",
    "print(f\"95% confidence interval of the two-sample Z-test is: [{CI[0]*100:.2f}%, {CI[1]*100:.2f}%]\")\n",
    "print(f\"The true population parameter for the difference between the experimental and control groups lies in this range with 95% confidence.\\nAt the lower end we expect a {CI[0]*100:.2f}% difference.\\nAt the upper end we expect a {CI[1]*100:.2f}% difference between the groups.\")"
   ]
  },
  {
   "cell_type": "code",
   "execution_count": 39,
   "metadata": {},
   "outputs": [
    {
     "name": "stdout",
     "output_type": "stream",
     "text": [
      "We have practical significance!\n",
      "MDE: 0.005\n",
      "The difference between control and experimental groups is practically significant\n"
     ]
    }
   ],
   "source": [
    "def is_practically_significant(delta, CI_95):\n",
    "    \n",
    "    \"\"\"\n",
    "    Delta represents the minimum detectable effect\n",
    "    CU_95 represents the lower and upper bounds of the 95% confidence interval\n",
    "    \"\"\"\n",
    "    \n",
    "    lower_bound = CI_95[0]\n",
    "    if (lower_bound >= delta):\n",
    "        print(f\"We have practical significance!\\nMDE: {delta}\\nThe difference between control and experimental groups is practically significant\")\n",
    "    else:\n",
    "        print(f\"We don't have practical significance!\\nMDE: {delta}\\nThe difference between control and experimental groups is not practically significant\")\n",
    "\n",
    "# using the function\n",
    "delta = 0.005 # we want to see at least a 0.5% increase in the conversion rate\n",
    "is_practically_significant(delta, CI)"
   ]
  },
  {
   "cell_type": "code",
   "execution_count": 51,
   "metadata": {},
   "outputs": [
    {
     "name": "stdout",
     "output_type": "stream",
     "text": [
      "There exists a statistically significant difference between the control & experimental versions at the 5% significance level.\n",
      "In order to make a business decision we need a MDE of 0.5% between the control & experimental groups.\n",
      "The lower bound of our confidence interval suggests that the difference between the control & experimental groups will be at least 0.6%.\n",
      "This exceeds our MDE, therefore we can go ahead and proceed with the experimental group.\n"
     ]
    }
   ],
   "source": [
    "print(\"There exists a statistically significant difference between the control & experimental versions at the 5% significance level.\")\n",
    "print(f\"In order to make a business decision we need a MDE of {delta*100:.1f}% between the control & experimental groups.\")\n",
    "print(f\"The lower bound of our confidence interval suggests that the difference between the control & experimental groups will be at least {CI[0]*100:.1f}%.\\nThis exceeds our MDE, therefore we can go ahead and proceed with the experimental group.\")"
   ]
  },
  {
   "cell_type": "code",
   "execution_count": null,
   "metadata": {},
   "outputs": [],
   "source": []
  }
 ],
 "metadata": {
  "kernelspec": {
   "display_name": "datascienceCourse",
   "language": "python",
   "name": "python3"
  },
  "language_info": {
   "codemirror_mode": {
    "name": "ipython",
    "version": 3
   },
   "file_extension": ".py",
   "mimetype": "text/x-python",
   "name": "python",
   "nbconvert_exporter": "python",
   "pygments_lexer": "ipython3",
   "version": "3.13.0"
  }
 },
 "nbformat": 4,
 "nbformat_minor": 2
}
